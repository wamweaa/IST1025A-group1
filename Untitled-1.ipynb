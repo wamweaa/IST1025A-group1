{
 "cells": [
  {
   "cell_type": "code",
   "execution_count": 1,
   "metadata": {},
   "outputs": [
    {
     "name": "stdout",
     "output_type": "stream",
     "text": [
      "1.0\n",
      "2\n",
      "(1+0j)\n",
      "<class 'float'>\n",
      "<class 'int'>\n",
      "<class 'complex'>\n"
     ]
    }
   ],
   "source": [
    "x=1 #int\n",
    "y=2.8 #float\n",
    "z=1j #complex\n",
    "\n",
    "#convert from int to float:\n",
    "a=float(x)\n",
    "#convert from float to int:\n",
    "b=int(y)\n",
    "#convert from int to complex:\n",
    "c=complex(x)\n",
    "print(a)\n",
    "print(b)\n",
    "print(c)\n",
    "print(type(a))\n",
    "print(type(b))   \n",
    "print(type(c))"
   ]
  },
  {
   "cell_type": "code",
   "execution_count": null,
   "metadata": {},
   "outputs": [],
   "source": []
  },
  {
   "cell_type": "code",
   "execution_count": 4,
   "metadata": {},
   "outputs": [],
   "source": [
    "import random\n",
    "b=random.randrange(1,10)"
   ]
  },
  {
   "cell_type": "code",
   "execution_count": 6,
   "metadata": {},
   "outputs": [
    {
     "name": "stdout",
     "output_type": "stream",
     "text": [
      "24\n"
     ]
    }
   ],
   "source": [
    "a='patrick wamwea kinyanjui'\n",
    "print(len(a))"
   ]
  },
  {
   "cell_type": "code",
   "execution_count": 9,
   "metadata": {},
   "outputs": [
    {
     "name": "stdout",
     "output_type": "stream",
     "text": [
      "llo\n"
     ]
    }
   ],
   "source": [
    "b= \"Hello, World\"\n",
    "s=b[2:5]\n",
    "print(s)"
   ]
  },
  {
   "cell_type": "code",
   "execution_count": 12,
   "metadata": {},
   "outputs": [
    {
     "name": "stdout",
     "output_type": "stream",
     "text": [
      "llo, World\n"
     ]
    }
   ],
   "source": [
    "b= \"Hello, World\"\n",
    "print(b[2:])"
   ]
  },
  {
   "cell_type": "code",
   "execution_count": 13,
   "metadata": {},
   "outputs": [
    {
     "name": "stdout",
     "output_type": "stream",
     "text": [
      "HELLO, WORLD\n"
     ]
    }
   ],
   "source": [
    "# upper case\n",
    "print(b.upper())"
   ]
  },
  {
   "cell_type": "code",
   "execution_count": 15,
   "metadata": {},
   "outputs": [
    {
     "name": "stdout",
     "output_type": "stream",
     "text": [
      "hello, world\n"
     ]
    }
   ],
   "source": [
    "# lower case\n",
    "c='HELLO, WORLD'\n",
    "print(c.lower())"
   ]
  },
  {
   "cell_type": "code",
   "execution_count": 17,
   "metadata": {},
   "outputs": [
    {
     "name": "stdout",
     "output_type": "stream",
     "text": [
      "JELLO, WORLD\n"
     ]
    }
   ],
   "source": [
    "# replace H with J\n",
    "print(c.replace('H','J'))"
   ]
  },
  {
   "cell_type": "code",
   "execution_count": 22,
   "metadata": {},
   "outputs": [
    {
     "name": "stdout",
     "output_type": "stream",
     "text": [
      "patrick wamwea kinyanjui Hello, World\n"
     ]
    }
   ],
   "source": [
    "print(a+' '+b)"
   ]
  },
  {
   "cell_type": "code",
   "execution_count": 23,
   "metadata": {},
   "outputs": [
    {
     "name": "stdout",
     "output_type": "stream",
     "text": [
      "My name is John, and I am 36\n"
     ]
    }
   ],
   "source": [
    "age=36\n",
    "txt = \"My name is John, and I am {}\"\n",
    "print(txt.format(age))"
   ]
  },
  {
   "cell_type": "code",
   "execution_count": null,
   "metadata": {},
   "outputs": [
    {
     "name": "stdout",
     "output_type": "stream",
     "text": [
      "patr\n",
      "wamwea kin\n",
      "aynik aewmaw kcirtap\n"
     ]
    }
   ],
   "source": [
    "\n",
    "# string slicing\n",
    "s= \"patrick wamwea kinya\"   #my string\n",
    "print(s[:4]) #prints the string from the 7th index\n",
    "\n",
    "# Extract a substring from index 8 to 17 (end index is exclusive)\n",
    "substring = s[8:18]  # This will give \"wamwea kin\"\n",
    "print(substring)\n",
    "\n",
    "\n",
    "# reversing string using slicing\n",
    "reversed_stting = s[::-1]   #code to reverse the string\n",
    "print(reversed_stting) #to print the reversed string\n",
    "\n"
   ]
  },
  {
   "cell_type": "code",
   "execution_count": 3,
   "metadata": {},
   "outputs": [
    {
     "name": "stdout",
     "output_type": "stream",
     "text": [
      "[0, 1, 2]\n",
      "[4, 5, 6, 7]\n",
      "[0, 2, 4, 6, 8]\n",
      "[9, 8, 7, 6, 5, 4, 3, 2, 1, 0]\n"
     ]
    }
   ],
   "source": [
    "numbers=[0, 1, 2, 3, 4, 5, 6, 7, 8, 9]  #list of numbers\n",
    "\n",
    "# slicing operations\n",
    "# extract the first 3 elements\n",
    "first_three = numbers[:3] #this will print the first three elements\n",
    "print(first_three) #this will display the first three elements\n",
    "\n",
    "#extract elements from index 4 to 7\n",
    "mid_numbers = numbers[4:8] #this will print the elements from index 4 to 7  \n",
    "\n",
    "# extract every second element from the list\n",
    "every_second = numbers[::2] #this will print every second element from the list\n",
    "\n",
    "# reversing the list using slicing\n",
    "reverse_string = numbers[::-1]  #this will reverse the list\n",
    "\n",
    "print(mid_numbers)\n",
    "print(every_second)\n",
    "print(reverse_string)\n",
    "\n"
   ]
  },
  {
   "cell_type": "code",
   "execution_count": 5,
   "metadata": {},
   "outputs": [
    {
     "name": "stdout",
     "output_type": "stream",
     "text": [
      "nya\n",
      "[7, 8, 9]\n"
     ]
    }
   ],
   "source": [
    "# Negative Indexing\n",
    "# extract the last 3 characters of the string\n",
    "last_three = s[-3:] #this will print the last three characters of the string\n",
    "last_three_numbers = numbers[-3:] #this will print the last three numbers of the list\n",
    "print(last_three)\n",
    "print(last_three_numbers)"
   ]
  },
  {
   "cell_type": "markdown",
   "metadata": {},
   "source": []
  }
 ],
 "metadata": {
  "kernelspec": {
   "display_name": "Python 3",
   "language": "python",
   "name": "python3"
  },
  "language_info": {
   "codemirror_mode": {
    "name": "ipython",
    "version": 3
   },
   "file_extension": ".py",
   "mimetype": "text/x-python",
   "name": "python",
   "nbconvert_exporter": "python",
   "pygments_lexer": "ipython3",
   "version": "3.9.7"
  }
 },
 "nbformat": 4,
 "nbformat_minor": 2
}
