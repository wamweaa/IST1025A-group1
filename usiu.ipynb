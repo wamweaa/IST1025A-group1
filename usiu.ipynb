{
 "cells": [
  {
   "cell_type": "code",
   "execution_count": 3,
   "metadata": {},
   "outputs": [
    {
     "name": "stdout",
     "output_type": "stream",
     "text": [
      "hello patrick\n",
      "the sum of12 and 12 is 24\n"
     ]
    }
   ],
   "source": [
    "name = input(\"what is your name\")\n",
    "print(\"hello\", name)\n",
    "num1 = input(\"enter a number\")\n",
    "num2 = input(\"enter another number\")\n",
    "sum = int(num1) + int(num2)\n",
    "print(\"the sum of{0} and {1} is {2}\".format(num1, num2, sum))\n"
   ]
  },
  {
   "cell_type": "code",
   "execution_count": null,
   "metadata": {},
   "outputs": [],
   "source": [
    "sub  = float(num1) - float(num2)\n",
    "print(\"the sub of {0} and {1} is {2}\".format(num1, num2, sub))"
   ]
  },
  {
   "cell_type": "code",
   "execution_count": 4,
   "metadata": {},
   "outputs": [
    {
     "name": "stdout",
     "output_type": "stream",
     "text": [
      "you cannot divide by zero\n"
     ]
    }
   ],
   "source": [
    "num1 = input(\"enter a number\")\n",
    "num2 = input(\"enter another number\")\n",
    "\n",
    "try:\n",
    "    divide = float(num1) / float(num2)\n",
    "except ZeroDivisionError:\n",
    "    print(\"you cannot divide by zero\")"
   ]
  }
 ],
 "metadata": {
  "kernelspec": {
   "display_name": "Python 3",
   "language": "python",
   "name": "python3"
  },
  "language_info": {
   "codemirror_mode": {
    "name": "ipython",
    "version": 3
   },
   "file_extension": ".py",
   "mimetype": "text/x-python",
   "name": "python",
   "nbconvert_exporter": "python",
   "pygments_lexer": "ipython3",
   "version": "3.9.7"
  }
 },
 "nbformat": 4,
 "nbformat_minor": 2
}
