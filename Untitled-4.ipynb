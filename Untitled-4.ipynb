{
 "cells": [
  {
   "cell_type": "code",
   "execution_count": 1,
   "metadata": {},
   "outputs": [
    {
     "name": "stdout",
     "output_type": "stream",
     "text": [
      "i am pato\n"
     ]
    }
   ],
   "source": [
    "a=33\n",
    "b=200\n",
    "\n",
    "if b>a:\n",
    "    print(\"i am pato\")\n",
    "else:\n",
    "    print(\"i dont know\")"
   ]
  },
  {
   "cell_type": "code",
   "execution_count": 3,
   "metadata": {},
   "outputs": [
    {
     "name": "stdout",
     "output_type": "stream",
     "text": [
      "i am pato\n"
     ]
    }
   ],
   "source": [
    "a=33\n",
    "b=200\n",
    "\n",
    "if b>a:\n",
    "    print(\"i am pato\")\n",
    "elif a == b:\n",
    "    print('a and be equal')\n",
    "else:\n",
    "    print(\"i dont know\")\n"
   ]
  },
  {
   "cell_type": "code",
   "execution_count": 7,
   "metadata": {},
   "outputs": [
    {
     "name": "stdout",
     "output_type": "stream",
     "text": [
      "i am pato\n"
     ]
    }
   ],
   "source": [
    "# short hand if else\n",
    "a=33\n",
    "b=200\n",
    "print(\"i am pato\") if a<b else print(\"i am\")"
   ]
  },
  {
   "cell_type": "code",
   "execution_count": null,
   "metadata": {},
   "outputs": [
    {
     "name": "stdout",
     "output_type": "stream",
     "text": [
      "i am pato\n"
     ]
    }
   ],
   "source": [
    "# short hand if \n",
    "a=33\n",
    "b=200\n",
    "if a<b:\n",
    "    print(\"i am pato\")"
   ]
  },
  {
   "cell_type": "code",
   "execution_count": null,
   "metadata": {},
   "outputs": [
    {
     "name": "stdout",
     "output_type": "stream",
     "text": [
      "A\n"
     ]
    }
   ],
   "source": [
    "\n",
    "# one line if else statement with 3 conditions\n",
    "a=33\n",
    "b=200\n",
    "\n",
    "print(\"A\") if a<b else print(\"=\") if a==b else print(\"B\")"
   ]
  },
  {
   "cell_type": "code",
   "execution_count": 9,
   "metadata": {},
   "outputs": [
    {
     "name": "stdout",
     "output_type": "stream",
     "text": [
      "both are true\n"
     ]
    }
   ],
   "source": [
    "# and operator\n",
    "a=200\n",
    "b= 33\n",
    "c= 500\n",
    "if a>b and c>a:\n",
    "    print(\"both are true\")"
   ]
  },
  {
   "cell_type": "code",
   "execution_count": 10,
   "metadata": {},
   "outputs": [
    {
     "name": "stdout",
     "output_type": "stream",
     "text": [
      "both are true\n"
     ]
    }
   ],
   "source": [
    "# or operator\n",
    "a=200\n",
    "b= 33\n",
    "c= 500\n",
    "if a>b or c>a:\n",
    "    print(\"both are true\")"
   ]
  },
  {
   "cell_type": "code",
   "execution_count": null,
   "metadata": {},
   "outputs": [
    {
     "name": "stdout",
     "output_type": "stream",
     "text": [
      "is above 10\n",
      "and also above 20\n"
     ]
    }
   ],
   "source": [
    "# Nested if\n",
    "\n",
    "x= 41\n",
    "if x>10:\n",
    "    print(\"is above 10\")\n",
    "if x>20:\n",
    "    print(\"and also above 20\")\n",
    "else:\n",
    "    print(\"not above 10\")"
   ]
  },
  {
   "cell_type": "code",
   "execution_count": 14,
   "metadata": {},
   "outputs": [
    {
     "name": "stdout",
     "output_type": "stream",
     "text": [
      "negative number\n"
     ]
    }
   ],
   "source": [
    "num = float(input(\"enter number:\"))\n",
    "if num>=0:\n",
    "    if num == 0:\n",
    "    \n",
    "     print(\"Zero\")\n",
    "    else:\n",
    "        print(\"positive\")\n",
    "else:\n",
    "    print(\"negative number\")"
   ]
  },
  {
   "cell_type": "code",
   "execution_count": 16,
   "metadata": {},
   "outputs": [
    {
     "name": "stdout",
     "output_type": "stream",
     "text": [
      "hello\n"
     ]
    }
   ],
   "source": [
    "list = [4,5,6,7]\n",
    "if list[0]>list[1]:\n",
    "    print(\"access\")\n",
    "else:\n",
    "    print(\"hello\")"
   ]
  },
  {
   "cell_type": "code",
   "execution_count": null,
   "metadata": {},
   "outputs": [],
   "source": [
    "# while loop\n",
    "i = 1\n",
    "\n",
    "while i<6:\n",
    "    print(i)\n",
    "i +=1"
   ]
  },
  {
   "cell_type": "code",
   "execution_count": 19,
   "metadata": {},
   "outputs": [
    {
     "name": "stdout",
     "output_type": "stream",
     "text": [
      "1\n"
     ]
    }
   ],
   "source": [
    "i =1 \n",
    "\n",
    "while i < 6:\n",
    "    if i == 3:\n",
    "        break\n",
    "    print(i)\n",
    "    i += i+1"
   ]
  },
  {
   "cell_type": "code",
   "execution_count": 22,
   "metadata": {},
   "outputs": [
    {
     "name": "stdout",
     "output_type": "stream",
     "text": [
      "1\n",
      "2\n",
      "4\n",
      "5\n",
      "6\n"
     ]
    }
   ],
   "source": [
    "i = 0\n",
    "\n",
    "while i < 6:\n",
    "    i += 1\n",
    "    if i == 3:\n",
    "        continue\n",
    "    print(i)"
   ]
  },
  {
   "cell_type": "code",
   "execution_count": 23,
   "metadata": {},
   "outputs": [
    {
     "name": "stdout",
     "output_type": "stream",
     "text": [
      "1\n",
      "2\n",
      "3\n",
      "4\n",
      "5\n",
      "i am patrick\n"
     ]
    }
   ],
   "source": [
    "i =1 \n",
    "while i< 6:\n",
    "    print(i)\n",
    "    i +=1\n",
    "else:\n",
    "    print(\"i am patrick\")"
   ]
  }
 ],
 "metadata": {
  "kernelspec": {
   "display_name": "Python 3",
   "language": "python",
   "name": "python3"
  },
  "language_info": {
   "codemirror_mode": {
    "name": "ipython",
    "version": 3
   },
   "file_extension": ".py",
   "mimetype": "text/x-python",
   "name": "python",
   "nbconvert_exporter": "python",
   "pygments_lexer": "ipython3",
   "version": "3.9.7"
  }
 },
 "nbformat": 4,
 "nbformat_minor": 2
}
